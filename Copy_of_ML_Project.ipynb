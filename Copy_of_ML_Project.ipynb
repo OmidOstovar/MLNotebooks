{
  "cells": [
    {
      "cell_type": "markdown",
      "metadata": {
        "id": "view-in-github",
        "colab_type": "text"
      },
      "source": [
        "<a href=\"https://colab.research.google.com/github/OmidOstovar/MLNotebooks/blob/master/Copy_of_ML_Project.ipynb\" target=\"_parent\"><img src=\"https://colab.research.google.com/assets/colab-badge.svg\" alt=\"Open In Colab\"/></a>"
      ]
    },
    {
      "cell_type": "code",
      "execution_count": null,
      "id": "4171f38f",
      "metadata": {
        "id": "4171f38f"
      },
      "outputs": [],
      "source": [
        "import numpy as np\n",
        "import pandas as pd \n",
        "import matplotlib.pyplot as plt\n",
        "import seaborn as sns"
      ]
    },
    {
      "cell_type": "code",
      "source": [
        "from google.colab import drive\n",
        "drive.mount('/content/gdrive')\n",
        "root_path = 'gdrive/My Drive/'"
      ],
      "metadata": {
        "colab": {
          "base_uri": "https://localhost:8080/"
        },
        "id": "sp7Qi21_oOC0",
        "outputId": "91c6ac9b-271e-445a-9067-a3abfce94fb3"
      },
      "id": "sp7Qi21_oOC0",
      "execution_count": null,
      "outputs": [
        {
          "output_type": "stream",
          "name": "stdout",
          "text": [
            "Mounted at /content/gdrive\n"
          ]
        }
      ]
    },
    {
      "cell_type": "code",
      "execution_count": null,
      "metadata": {
        "id": "76ceeb7e",
        "outputId": "5bdb280a-eb12-46d1-dfe4-52bb91fd4a5d",
        "colab": {
          "base_uri": "https://localhost:8080/",
          "height": 357
        }
      },
      "outputs": [
        {
          "output_type": "execute_result",
          "data": {
            "text/html": [
              "\n",
              "  <div id=\"df-43a7047d-90f6-4426-bcc5-b093d83fc6a8\">\n",
              "    <div class=\"colab-df-container\">\n",
              "      <div>\n",
              "<style scoped>\n",
              "    .dataframe tbody tr th:only-of-type {\n",
              "        vertical-align: middle;\n",
              "    }\n",
              "\n",
              "    .dataframe tbody tr th {\n",
              "        vertical-align: top;\n",
              "    }\n",
              "\n",
              "    .dataframe thead th {\n",
              "        text-align: right;\n",
              "    }\n",
              "</style>\n",
              "<table border=\"1\" class=\"dataframe\">\n",
              "  <thead>\n",
              "    <tr style=\"text-align: right;\">\n",
              "      <th></th>\n",
              "      <th>Sale</th>\n",
              "      <th>SalesAmountInEuro</th>\n",
              "      <th>time_delay_for_conversion</th>\n",
              "      <th>click_timestamp</th>\n",
              "      <th>nb_clicks_1week</th>\n",
              "      <th>product_price</th>\n",
              "      <th>product_age_group</th>\n",
              "      <th>device_type</th>\n",
              "      <th>audience_id</th>\n",
              "      <th>product_gender</th>\n",
              "      <th>product_brand</th>\n",
              "      <th>product_category(1)</th>\n",
              "      <th>product_category(2)</th>\n",
              "      <th>product_category(3)</th>\n",
              "      <th>product_category(4)</th>\n",
              "      <th>product_category(5)</th>\n",
              "      <th>product_category(6)</th>\n",
              "      <th>product_category(7)</th>\n",
              "      <th>product_country</th>\n",
              "      <th>product_id</th>\n",
              "      <th>product_title</th>\n",
              "      <th>partner_id</th>\n",
              "      <th>user_id</th>\n",
              "    </tr>\n",
              "  </thead>\n",
              "  <tbody>\n",
              "    <tr>\n",
              "      <th>0</th>\n",
              "      <td>0</td>\n",
              "      <td>-1.0</td>\n",
              "      <td>-1</td>\n",
              "      <td>2020-08-04 04:07:56</td>\n",
              "      <td>-1</td>\n",
              "      <td>0.0</td>\n",
              "      <td>-1</td>\n",
              "      <td>7E56C27BFF0305E788DA55A029EC4988</td>\n",
              "      <td>-1</td>\n",
              "      <td>-1</td>\n",
              "      <td>-1</td>\n",
              "      <td>-1</td>\n",
              "      <td>-1</td>\n",
              "      <td>-1</td>\n",
              "      <td>-1</td>\n",
              "      <td>-1</td>\n",
              "      <td>-1</td>\n",
              "      <td>-1</td>\n",
              "      <td>57A1D462A03BD076E029CF9310C11FC5</td>\n",
              "      <td>B69E439E41E0BEAD764ABF16D7FD96C9</td>\n",
              "      <td>-1</td>\n",
              "      <td>E3DDEB04F8AFF944B11943BB57D2F620</td>\n",
              "      <td>5E2C678F6586B67F61A377E1534E01FC</td>\n",
              "    </tr>\n",
              "    <tr>\n",
              "      <th>1</th>\n",
              "      <td>0</td>\n",
              "      <td>-1.0</td>\n",
              "      <td>-1</td>\n",
              "      <td>2020-08-04 01:47:40</td>\n",
              "      <td>-1</td>\n",
              "      <td>0.0</td>\n",
              "      <td>-1</td>\n",
              "      <td>7E56C27BFF0305E788DA55A029EC4988</td>\n",
              "      <td>-1</td>\n",
              "      <td>-1</td>\n",
              "      <td>-1</td>\n",
              "      <td>-1</td>\n",
              "      <td>-1</td>\n",
              "      <td>-1</td>\n",
              "      <td>-1</td>\n",
              "      <td>-1</td>\n",
              "      <td>-1</td>\n",
              "      <td>-1</td>\n",
              "      <td>57A1D462A03BD076E029CF9310C11FC5</td>\n",
              "      <td>404D3D9D03297504F3509032DCFA02F0</td>\n",
              "      <td>-1</td>\n",
              "      <td>E3DDEB04F8AFF944B11943BB57D2F620</td>\n",
              "      <td>E8247702C0DD294E0AE6B5B5E2F9E810</td>\n",
              "    </tr>\n",
              "    <tr>\n",
              "      <th>2</th>\n",
              "      <td>0</td>\n",
              "      <td>-1.0</td>\n",
              "      <td>-1</td>\n",
              "      <td>2020-08-04 16:54:31</td>\n",
              "      <td>-1</td>\n",
              "      <td>0.0</td>\n",
              "      <td>4C90FD52FC53D2C1C205844CB69575AB</td>\n",
              "      <td>FF2C446555E3822B0E0FC3406116E86D</td>\n",
              "      <td>-1</td>\n",
              "      <td>C45A9AC6D102ACAEEDF0D6F78636D84A</td>\n",
              "      <td>3DF2BEDE6A8FDFA7F97B97FFF6EF38CC</td>\n",
              "      <td>033E492229C2222EFAA16EE8A6462D8B</td>\n",
              "      <td>CD599E5A946D00A81A875E085F7EF1E8</td>\n",
              "      <td>-1</td>\n",
              "      <td>-1</td>\n",
              "      <td>-1</td>\n",
              "      <td>-1</td>\n",
              "      <td>-1</td>\n",
              "      <td>2AC62132FBCFA093B9426894A4BC6278</td>\n",
              "      <td>B09E51338E0EED59C5A859B13631C370</td>\n",
              "      <td>3DF2BEDE6A8FDFA7F97B97FFF6EF38CC 516EE9C34B839...</td>\n",
              "      <td>12E43E51784BDE3CB9E0EF6310A7D5C5</td>\n",
              "      <td>9FD001258907F541D497040C64383696</td>\n",
              "    </tr>\n",
              "    <tr>\n",
              "      <th>3</th>\n",
              "      <td>0</td>\n",
              "      <td>-1.0</td>\n",
              "      <td>-1</td>\n",
              "      <td>2020-08-03 20:34:28</td>\n",
              "      <td>-1</td>\n",
              "      <td>0.0</td>\n",
              "      <td>-1</td>\n",
              "      <td>D7D1FB49049702BF6338894757E0D959</td>\n",
              "      <td>-1</td>\n",
              "      <td>-1</td>\n",
              "      <td>-1</td>\n",
              "      <td>-1</td>\n",
              "      <td>-1</td>\n",
              "      <td>-1</td>\n",
              "      <td>-1</td>\n",
              "      <td>-1</td>\n",
              "      <td>-1</td>\n",
              "      <td>-1</td>\n",
              "      <td>57A1D462A03BD076E029CF9310C11FC5</td>\n",
              "      <td>080614393A57816D7A655695E2DBE728</td>\n",
              "      <td>-1</td>\n",
              "      <td>E3DDEB04F8AFF944B11943BB57D2F620</td>\n",
              "      <td>225741ACF2DBB2E5948268F5D5D352E6</td>\n",
              "    </tr>\n",
              "    <tr>\n",
              "      <th>4</th>\n",
              "      <td>0</td>\n",
              "      <td>-1.0</td>\n",
              "      <td>-1</td>\n",
              "      <td>2020-08-03 20:54:17</td>\n",
              "      <td>1064</td>\n",
              "      <td>0.0</td>\n",
              "      <td>4C90FD52FC53D2C1C205844CB69575AB</td>\n",
              "      <td>7E56C27BFF0305E788DA55A029EC4988</td>\n",
              "      <td>-1</td>\n",
              "      <td>1B491180398E2F0390E6A588B3BCE291</td>\n",
              "      <td>9B57D98465FD7D5AF39448DC29E95DC8</td>\n",
              "      <td>13C26D10258053889D75D9B9CA922EC7</td>\n",
              "      <td>346AC0DECB71FFDC9114236B419D7814</td>\n",
              "      <td>1E629AECC2FB9BEF43331CBE8F2D7C08</td>\n",
              "      <td>341C9BD18A3277E6B104CAFC177DE796</td>\n",
              "      <td>-1</td>\n",
              "      <td>-1</td>\n",
              "      <td>-1</td>\n",
              "      <td>989EEF92F2A525DD896557425EA7C4C7</td>\n",
              "      <td>350271BAFD7C7AAF6FB1424CF3DD4827</td>\n",
              "      <td>097C90F8BF5398AC7C486804F0801DEE E09E084DB8937...</td>\n",
              "      <td>F0FD783189F55BAFC331AD347EAE6863</td>\n",
              "      <td>160A90377E54124D0BD31DB6735F0B33</td>\n",
              "    </tr>\n",
              "  </tbody>\n",
              "</table>\n",
              "</div>\n",
              "      <button class=\"colab-df-convert\" onclick=\"convertToInteractive('df-43a7047d-90f6-4426-bcc5-b093d83fc6a8')\"\n",
              "              title=\"Convert this dataframe to an interactive table.\"\n",
              "              style=\"display:none;\">\n",
              "        \n",
              "  <svg xmlns=\"http://www.w3.org/2000/svg\" height=\"24px\"viewBox=\"0 0 24 24\"\n",
              "       width=\"24px\">\n",
              "    <path d=\"M0 0h24v24H0V0z\" fill=\"none\"/>\n",
              "    <path d=\"M18.56 5.44l.94 2.06.94-2.06 2.06-.94-2.06-.94-.94-2.06-.94 2.06-2.06.94zm-11 1L8.5 8.5l.94-2.06 2.06-.94-2.06-.94L8.5 2.5l-.94 2.06-2.06.94zm10 10l.94 2.06.94-2.06 2.06-.94-2.06-.94-.94-2.06-.94 2.06-2.06.94z\"/><path d=\"M17.41 7.96l-1.37-1.37c-.4-.4-.92-.59-1.43-.59-.52 0-1.04.2-1.43.59L10.3 9.45l-7.72 7.72c-.78.78-.78 2.05 0 2.83L4 21.41c.39.39.9.59 1.41.59.51 0 1.02-.2 1.41-.59l7.78-7.78 2.81-2.81c.8-.78.8-2.07 0-2.86zM5.41 20L4 18.59l7.72-7.72 1.47 1.35L5.41 20z\"/>\n",
              "  </svg>\n",
              "      </button>\n",
              "      \n",
              "  <style>\n",
              "    .colab-df-container {\n",
              "      display:flex;\n",
              "      flex-wrap:wrap;\n",
              "      gap: 12px;\n",
              "    }\n",
              "\n",
              "    .colab-df-convert {\n",
              "      background-color: #E8F0FE;\n",
              "      border: none;\n",
              "      border-radius: 50%;\n",
              "      cursor: pointer;\n",
              "      display: none;\n",
              "      fill: #1967D2;\n",
              "      height: 32px;\n",
              "      padding: 0 0 0 0;\n",
              "      width: 32px;\n",
              "    }\n",
              "\n",
              "    .colab-df-convert:hover {\n",
              "      background-color: #E2EBFA;\n",
              "      box-shadow: 0px 1px 2px rgba(60, 64, 67, 0.3), 0px 1px 3px 1px rgba(60, 64, 67, 0.15);\n",
              "      fill: #174EA6;\n",
              "    }\n",
              "\n",
              "    [theme=dark] .colab-df-convert {\n",
              "      background-color: #3B4455;\n",
              "      fill: #D2E3FC;\n",
              "    }\n",
              "\n",
              "    [theme=dark] .colab-df-convert:hover {\n",
              "      background-color: #434B5C;\n",
              "      box-shadow: 0px 1px 3px 1px rgba(0, 0, 0, 0.15);\n",
              "      filter: drop-shadow(0px 1px 2px rgba(0, 0, 0, 0.3));\n",
              "      fill: #FFFFFF;\n",
              "    }\n",
              "  </style>\n",
              "\n",
              "      <script>\n",
              "        const buttonEl =\n",
              "          document.querySelector('#df-43a7047d-90f6-4426-bcc5-b093d83fc6a8 button.colab-df-convert');\n",
              "        buttonEl.style.display =\n",
              "          google.colab.kernel.accessAllowed ? 'block' : 'none';\n",
              "\n",
              "        async function convertToInteractive(key) {\n",
              "          const element = document.querySelector('#df-43a7047d-90f6-4426-bcc5-b093d83fc6a8');\n",
              "          const dataTable =\n",
              "            await google.colab.kernel.invokeFunction('convertToInteractive',\n",
              "                                                     [key], {});\n",
              "          if (!dataTable) return;\n",
              "\n",
              "          const docLinkHtml = 'Like what you see? Visit the ' +\n",
              "            '<a target=\"_blank\" href=https://colab.research.google.com/notebooks/data_table.ipynb>data table notebook</a>'\n",
              "            + ' to learn more about interactive tables.';\n",
              "          element.innerHTML = '';\n",
              "          dataTable['output_type'] = 'display_data';\n",
              "          await google.colab.output.renderOutput(dataTable, element);\n",
              "          const docLink = document.createElement('div');\n",
              "          docLink.innerHTML = docLinkHtml;\n",
              "          element.appendChild(docLink);\n",
              "        }\n",
              "      </script>\n",
              "    </div>\n",
              "  </div>\n",
              "  "
            ],
            "text/plain": [
              "   Sale  ...                           user_id\n",
              "0     0  ...  5E2C678F6586B67F61A377E1534E01FC\n",
              "1     0  ...  E8247702C0DD294E0AE6B5B5E2F9E810\n",
              "2     0  ...  9FD001258907F541D497040C64383696\n",
              "3     0  ...  225741ACF2DBB2E5948268F5D5D352E6\n",
              "4     0  ...  160A90377E54124D0BD31DB6735F0B33\n",
              "\n",
              "[5 rows x 23 columns]"
            ]
          },
          "metadata": {},
          "execution_count": 11
        }
      ],
      "source": [
        "df = pd.read_csv('/content/gdrive/MyDrive/train_dataset (1).csv')\n",
        "df.columns\n",
        "df.head()\n",
        "#df.shape"
      ],
      "id": "76ceeb7e"
    },
    {
      "cell_type": "code",
      "execution_count": null,
      "id": "5b992145",
      "metadata": {
        "id": "5b992145",
        "outputId": "149ea9aa-2160-463a-907c-b6f65f89e01e",
        "colab": {
          "base_uri": "https://localhost:8080/"
        }
      },
      "outputs": [
        {
          "output_type": "execute_result",
          "data": {
            "text/plain": [
              "Sale                             2\n",
              "SalesAmountInEuro             8932\n",
              "time_delay_for_conversion     9208\n",
              "click_timestamp              67045\n",
              "nb_clicks_1week               1138\n",
              "product_price                 4496\n",
              "product_age_group                9\n",
              "device_type                      4\n",
              "audience_id                   3182\n",
              "product_gender                  11\n",
              "product_brand                 4770\n",
              "product_category(1)             22\n",
              "product_category(2)            145\n",
              "product_category(3)            699\n",
              "product_category(4)            910\n",
              "product_category(5)            442\n",
              "product_category(6)             89\n",
              "product_category(7)              1\n",
              "product_country                 17\n",
              "product_id                   45447\n",
              "product_title                27695\n",
              "partner_id                     183\n",
              "user_id                      96766\n",
              "dtype: int64"
            ]
          },
          "metadata": {},
          "execution_count": 10
        }
      ],
      "source": [
        "df.dtypes\n",
        "df.nunique(axis=0)"
      ]
    },
    {
      "cell_type": "code",
      "execution_count": null,
      "id": "8c11eaee",
      "metadata": {
        "id": "8c11eaee",
        "outputId": "2acc7a8c-1fd7-4f8d-b360-a27c5b915be8",
        "colab": {
          "base_uri": "https://localhost:8080/",
          "height": 300
        }
      },
      "outputs": [
        {
          "output_type": "execute_result",
          "data": {
            "text/html": [
              "\n",
              "  <div id=\"df-d2d2a4f4-c734-4fc5-ab06-ff52360ecb71\">\n",
              "    <div class=\"colab-df-container\">\n",
              "      <div>\n",
              "<style scoped>\n",
              "    .dataframe tbody tr th:only-of-type {\n",
              "        vertical-align: middle;\n",
              "    }\n",
              "\n",
              "    .dataframe tbody tr th {\n",
              "        vertical-align: top;\n",
              "    }\n",
              "\n",
              "    .dataframe thead th {\n",
              "        text-align: right;\n",
              "    }\n",
              "</style>\n",
              "<table border=\"1\" class=\"dataframe\">\n",
              "  <thead>\n",
              "    <tr style=\"text-align: right;\">\n",
              "      <th></th>\n",
              "      <th>Sale</th>\n",
              "      <th>SalesAmountInEuro</th>\n",
              "      <th>time_delay_for_conversion</th>\n",
              "      <th>nb_clicks_1week</th>\n",
              "      <th>product_price</th>\n",
              "      <th>product_category(7)</th>\n",
              "    </tr>\n",
              "  </thead>\n",
              "  <tbody>\n",
              "    <tr>\n",
              "      <th>count</th>\n",
              "      <td>100000.000000</td>\n",
              "      <td>100000.000000</td>\n",
              "      <td>1.000000e+05</td>\n",
              "      <td>100000.000000</td>\n",
              "      <td>100000.000000</td>\n",
              "      <td>100000.0</td>\n",
              "    </tr>\n",
              "    <tr>\n",
              "      <th>mean</th>\n",
              "      <td>0.136610</td>\n",
              "      <td>15.124148</td>\n",
              "      <td>4.372428e+04</td>\n",
              "      <td>236.545830</td>\n",
              "      <td>10.929187</td>\n",
              "      <td>-1.0</td>\n",
              "    </tr>\n",
              "    <tr>\n",
              "      <th>std</th>\n",
              "      <td>0.343437</td>\n",
              "      <td>147.248702</td>\n",
              "      <td>2.434087e+05</td>\n",
              "      <td>1153.037285</td>\n",
              "      <td>65.574247</td>\n",
              "      <td>0.0</td>\n",
              "    </tr>\n",
              "    <tr>\n",
              "      <th>min</th>\n",
              "      <td>0.000000</td>\n",
              "      <td>-1.000000</td>\n",
              "      <td>-1.000000e+00</td>\n",
              "      <td>-1.000000</td>\n",
              "      <td>0.000000</td>\n",
              "      <td>-1.0</td>\n",
              "    </tr>\n",
              "    <tr>\n",
              "      <th>25%</th>\n",
              "      <td>0.000000</td>\n",
              "      <td>-1.000000</td>\n",
              "      <td>-1.000000e+00</td>\n",
              "      <td>-1.000000</td>\n",
              "      <td>0.000000</td>\n",
              "      <td>-1.0</td>\n",
              "    </tr>\n",
              "    <tr>\n",
              "      <th>50%</th>\n",
              "      <td>0.000000</td>\n",
              "      <td>-1.000000</td>\n",
              "      <td>-1.000000e+00</td>\n",
              "      <td>0.000000</td>\n",
              "      <td>0.000000</td>\n",
              "      <td>-1.0</td>\n",
              "    </tr>\n",
              "    <tr>\n",
              "      <th>75%</th>\n",
              "      <td>0.000000</td>\n",
              "      <td>-1.000000</td>\n",
              "      <td>-1.000000e+00</td>\n",
              "      <td>49.000000</td>\n",
              "      <td>0.000000</td>\n",
              "      <td>-1.0</td>\n",
              "    </tr>\n",
              "    <tr>\n",
              "      <th>max</th>\n",
              "      <td>1.000000</td>\n",
              "      <td>23691.224980</td>\n",
              "      <td>2.554631e+06</td>\n",
              "      <td>25390.000000</td>\n",
              "      <td>3928.000000</td>\n",
              "      <td>-1.0</td>\n",
              "    </tr>\n",
              "  </tbody>\n",
              "</table>\n",
              "</div>\n",
              "      <button class=\"colab-df-convert\" onclick=\"convertToInteractive('df-d2d2a4f4-c734-4fc5-ab06-ff52360ecb71')\"\n",
              "              title=\"Convert this dataframe to an interactive table.\"\n",
              "              style=\"display:none;\">\n",
              "        \n",
              "  <svg xmlns=\"http://www.w3.org/2000/svg\" height=\"24px\"viewBox=\"0 0 24 24\"\n",
              "       width=\"24px\">\n",
              "    <path d=\"M0 0h24v24H0V0z\" fill=\"none\"/>\n",
              "    <path d=\"M18.56 5.44l.94 2.06.94-2.06 2.06-.94-2.06-.94-.94-2.06-.94 2.06-2.06.94zm-11 1L8.5 8.5l.94-2.06 2.06-.94-2.06-.94L8.5 2.5l-.94 2.06-2.06.94zm10 10l.94 2.06.94-2.06 2.06-.94-2.06-.94-.94-2.06-.94 2.06-2.06.94z\"/><path d=\"M17.41 7.96l-1.37-1.37c-.4-.4-.92-.59-1.43-.59-.52 0-1.04.2-1.43.59L10.3 9.45l-7.72 7.72c-.78.78-.78 2.05 0 2.83L4 21.41c.39.39.9.59 1.41.59.51 0 1.02-.2 1.41-.59l7.78-7.78 2.81-2.81c.8-.78.8-2.07 0-2.86zM5.41 20L4 18.59l7.72-7.72 1.47 1.35L5.41 20z\"/>\n",
              "  </svg>\n",
              "      </button>\n",
              "      \n",
              "  <style>\n",
              "    .colab-df-container {\n",
              "      display:flex;\n",
              "      flex-wrap:wrap;\n",
              "      gap: 12px;\n",
              "    }\n",
              "\n",
              "    .colab-df-convert {\n",
              "      background-color: #E8F0FE;\n",
              "      border: none;\n",
              "      border-radius: 50%;\n",
              "      cursor: pointer;\n",
              "      display: none;\n",
              "      fill: #1967D2;\n",
              "      height: 32px;\n",
              "      padding: 0 0 0 0;\n",
              "      width: 32px;\n",
              "    }\n",
              "\n",
              "    .colab-df-convert:hover {\n",
              "      background-color: #E2EBFA;\n",
              "      box-shadow: 0px 1px 2px rgba(60, 64, 67, 0.3), 0px 1px 3px 1px rgba(60, 64, 67, 0.15);\n",
              "      fill: #174EA6;\n",
              "    }\n",
              "\n",
              "    [theme=dark] .colab-df-convert {\n",
              "      background-color: #3B4455;\n",
              "      fill: #D2E3FC;\n",
              "    }\n",
              "\n",
              "    [theme=dark] .colab-df-convert:hover {\n",
              "      background-color: #434B5C;\n",
              "      box-shadow: 0px 1px 3px 1px rgba(0, 0, 0, 0.15);\n",
              "      filter: drop-shadow(0px 1px 2px rgba(0, 0, 0, 0.3));\n",
              "      fill: #FFFFFF;\n",
              "    }\n",
              "  </style>\n",
              "\n",
              "      <script>\n",
              "        const buttonEl =\n",
              "          document.querySelector('#df-d2d2a4f4-c734-4fc5-ab06-ff52360ecb71 button.colab-df-convert');\n",
              "        buttonEl.style.display =\n",
              "          google.colab.kernel.accessAllowed ? 'block' : 'none';\n",
              "\n",
              "        async function convertToInteractive(key) {\n",
              "          const element = document.querySelector('#df-d2d2a4f4-c734-4fc5-ab06-ff52360ecb71');\n",
              "          const dataTable =\n",
              "            await google.colab.kernel.invokeFunction('convertToInteractive',\n",
              "                                                     [key], {});\n",
              "          if (!dataTable) return;\n",
              "\n",
              "          const docLinkHtml = 'Like what you see? Visit the ' +\n",
              "            '<a target=\"_blank\" href=https://colab.research.google.com/notebooks/data_table.ipynb>data table notebook</a>'\n",
              "            + ' to learn more about interactive tables.';\n",
              "          element.innerHTML = '';\n",
              "          dataTable['output_type'] = 'display_data';\n",
              "          await google.colab.output.renderOutput(dataTable, element);\n",
              "          const docLink = document.createElement('div');\n",
              "          docLink.innerHTML = docLinkHtml;\n",
              "          element.appendChild(docLink);\n",
              "        }\n",
              "      </script>\n",
              "    </div>\n",
              "  </div>\n",
              "  "
            ],
            "text/plain": [
              "                Sale  SalesAmountInEuro  ...  product_price  product_category(7)\n",
              "count  100000.000000      100000.000000  ...  100000.000000             100000.0\n",
              "mean        0.136610          15.124148  ...      10.929187                 -1.0\n",
              "std         0.343437         147.248702  ...      65.574247                  0.0\n",
              "min         0.000000          -1.000000  ...       0.000000                 -1.0\n",
              "25%         0.000000          -1.000000  ...       0.000000                 -1.0\n",
              "50%         0.000000          -1.000000  ...       0.000000                 -1.0\n",
              "75%         0.000000          -1.000000  ...       0.000000                 -1.0\n",
              "max         1.000000       23691.224980  ...    3928.000000                 -1.0\n",
              "\n",
              "[8 rows x 6 columns]"
            ]
          },
          "metadata": {},
          "execution_count": 6
        }
      ],
      "source": [
        "df.describe()"
      ]
    },
    {
      "cell_type": "code",
      "source": [
        "# Calc missing fields count for each col\n",
        "df[\"product_title\"].isna().sum() * 100 / len(df)"
      ],
      "metadata": {
        "id": "yz_y4xQLO8M8",
        "colab": {
          "base_uri": "https://localhost:8080/"
        },
        "outputId": "8d48f12c-5267-45f4-e990-3ff19dc4e215"
      },
      "id": "yz_y4xQLO8M8",
      "execution_count": null,
      "outputs": [
        {
          "output_type": "execute_result",
          "data": {
            "text/plain": [
              "0.261"
            ]
          },
          "metadata": {},
          "execution_count": 7
        }
      ]
    },
    {
      "cell_type": "code",
      "source": [
        "# df.eq(\"-1\").sum() * 100 / len(df)\n",
        "df.eq(-1).sum()"
      ],
      "metadata": {
        "id": "ONpMW9ZSSbhx",
        "colab": {
          "base_uri": "https://localhost:8080/"
        },
        "outputId": "4aae95b8-8bb7-49a8-c049-924dd6e99633"
      },
      "id": "ONpMW9ZSSbhx",
      "execution_count": null,
      "outputs": [
        {
          "output_type": "execute_result",
          "data": {
            "text/plain": [
              "Sale                              0\n",
              "SalesAmountInEuro             86339\n",
              "time_delay_for_conversion     86394\n",
              "click_timestamp                   0\n",
              "nb_clicks_1week               46060\n",
              "product_price                     0\n",
              "product_age_group                 0\n",
              "device_type                       0\n",
              "audience_id                       0\n",
              "product_gender                    0\n",
              "product_brand                     0\n",
              "product_category(1)               0\n",
              "product_category(2)               0\n",
              "product_category(3)               0\n",
              "product_category(4)               0\n",
              "product_category(5)               0\n",
              "product_category(6)               0\n",
              "product_category(7)          100000\n",
              "product_country                   0\n",
              "product_id                        0\n",
              "product_title                     0\n",
              "partner_id                        0\n",
              "user_id                           0\n",
              "dtype: int64"
            ]
          },
          "metadata": {},
          "execution_count": 8
        }
      ]
    },
    {
      "cell_type": "code",
      "source": [
        "df.eq(\"-1\").sum()"
      ],
      "metadata": {
        "id": "nmhkCgTNSdqZ",
        "colab": {
          "base_uri": "https://localhost:8080/"
        },
        "outputId": "356276e7-6984-4428-8c4f-c617925a27f8"
      },
      "id": "nmhkCgTNSdqZ",
      "execution_count": null,
      "outputs": [
        {
          "output_type": "execute_result",
          "data": {
            "text/plain": [
              "Sale                             0\n",
              "SalesAmountInEuro                0\n",
              "time_delay_for_conversion        0\n",
              "click_timestamp                  0\n",
              "nb_clicks_1week                  0\n",
              "product_price                    0\n",
              "product_age_group            75603\n",
              "device_type                     39\n",
              "audience_id                  71793\n",
              "product_gender               75554\n",
              "product_brand                65800\n",
              "product_category(1)          45502\n",
              "product_category(2)          45517\n",
              "product_category(3)          52316\n",
              "product_category(4)          71222\n",
              "product_category(5)          92009\n",
              "product_category(6)          98832\n",
              "product_category(7)              0\n",
              "product_country              23754\n",
              "product_id                   23714\n",
              "product_title                45502\n",
              "partner_id                       0\n",
              "user_id                          0\n",
              "dtype: int64"
            ]
          },
          "metadata": {},
          "execution_count": 9
        }
      ]
    },
    {
      "cell_type": "code",
      "source": [
        "df[\"click_timestamp\"].eq(\"0\").sum() * 100 / len(df)\n",
        "df[\"click_timestamp\"].eq(0).sum() * 100 / len(df)\n",
        "df[\"click_timestamp\"].eq(\"0000-00-00 00:00:00\").sum() * 100 / len(df)\n"
      ],
      "metadata": {
        "colab": {
          "base_uri": "https://localhost:8080/"
        },
        "id": "5YwDAUCkSfYP",
        "outputId": "6f3e0ed5-8fef-4044-8544-440db255d717"
      },
      "id": "5YwDAUCkSfYP",
      "execution_count": null,
      "outputs": [
        {
          "output_type": "execute_result",
          "data": {
            "text/plain": [
              "0.0"
            ]
          },
          "metadata": {},
          "execution_count": 10
        }
      ]
    },
    {
      "cell_type": "markdown",
      "source": [
        "بنظر میرسد در این ستون هیچ داده گمشده ای نداریم."
      ],
      "metadata": {
        "id": "tTGv-PeXSoWT"
      },
      "id": "tTGv-PeXSoWT"
    },
    {
      "cell_type": "code",
      "source": [
        "df_saled = df[df[\"Sale\"].eq(1)]\n",
        "df_notSaled = df[df[\"Sale\"].eq(0)]\n",
        "df_saled.shape"
      ],
      "metadata": {
        "colab": {
          "base_uri": "https://localhost:8080/"
        },
        "id": "iRVzx1KGzgxx",
        "outputId": "6c46bc6d-8cbe-4e21-c937-819418824f49"
      },
      "id": "iRVzx1KGzgxx",
      "execution_count": 14,
      "outputs": [
        {
          "output_type": "execute_result",
          "data": {
            "text/plain": [
              "(13661, 23)"
            ]
          },
          "metadata": {},
          "execution_count": 14
        }
      ]
    },
    {
      "cell_type": "code",
      "source": [
        "numericaldf = df.select_dtypes(exclude=['object'])\n",
        "fig, axes = plt.subplots(3, 2,figsize=(10,12))\n",
        "\n",
        "for i, ax in enumerate(axes.flatten()):\n",
        "    sns.boxplot(y= numericaldf.iloc[:,i], ax=ax)\n",
        "fig.tight_layout();"
      ],
      "metadata": {
        "id": "vTAe0PPvSnUu",
        "colab": {
          "base_uri": "https://localhost:8080/",
          "height": 873
        },
        "outputId": "05186c9b-48c9-4282-aed5-d66e19b3020d"
      },
      "id": "vTAe0PPvSnUu",
      "execution_count": null,
      "outputs": [
        {
          "output_type": "display_data",
          "data": {
            "image/png": "[encoded data removed]",
            "text/plain": [
              "<Figure size 720x864 with 6 Axes>"
            ]
          },
          "metadata": {
            "needs_background": "light"
          }
        }
      ]
    },
    {
      "cell_type": "code",
      "source": [
        "cmap= sns.diverging_palette(230, 20, as_cmap=True)\n",
        "sns.heatmap(df.corr(), annot=True,cmap=cmap);"
      ],
      "metadata": {
        "colab": {
          "base_uri": "https://localhost:8080/",
          "height": 392
        },
        "id": "X7Rx1AVuy49N",
        "outputId": "3c29c67c-8072-4287-b168-caa1d9da9320"
      },
      "id": "X7Rx1AVuy49N",
      "execution_count": null,
      "outputs": [
        {
          "output_type": "display_data",
          "data": {
            "image/png": "[encoded data removed]",
            "text/plain": [
              "<Figure size 432x288 with 2 Axes>"
            ]
          },
          "metadata": {
            "needs_background": "light"
          }
        }
      ]
    },
    {
      "cell_type": "code",
      "source": [
        "df.plot(kind='scatter', x='SalesAmountInEuro', y='product_price');"
      ],
      "metadata": {
        "colab": {
          "base_uri": "https://localhost:8080/",
          "height": 279
        },
        "id": "qL-U1LHTy9PA",
        "outputId": "0495c7d4-3505-4cab-c6fb-5b41b596d6d6"
      },
      "id": "qL-U1LHTy9PA",
      "execution_count": null,
      "outputs": [
        {
          "output_type": "display_data",
          "data": {
            "image/png": "[encoded data removed]",
            "text/plain": [
              "<Figure size 432x288 with 1 Axes>"
            ]
          },
          "metadata": {
            "needs_background": "light"
          }
        }
      ]
    },
    {
      "cell_type": "code",
      "source": [
        "df[df[\"Sale\"]==1].isnull().sum()"
      ],
      "metadata": {
        "colab": {
          "base_uri": "https://localhost:8080/"
        },
        "id": "1y1OQQoSzAwH",
        "outputId": "f494c2f0-ba9b-4f61-af77-70c43f2095bf"
      },
      "id": "1y1OQQoSzAwH",
      "execution_count": null,
      "outputs": [
        {
          "output_type": "execute_result",
          "data": {
            "text/plain": [
              "Sale                          0\n",
              "SalesAmountInEuro             0\n",
              "time_delay_for_conversion     0\n",
              "click_timestamp               0\n",
              "nb_clicks_1week               0\n",
              "product_price                 0\n",
              "product_age_group             0\n",
              "device_type                   0\n",
              "audience_id                   0\n",
              "product_gender                0\n",
              "product_brand                 0\n",
              "product_category(1)           0\n",
              "product_category(2)           0\n",
              "product_category(3)           0\n",
              "product_category(4)           0\n",
              "product_category(5)           0\n",
              "product_category(6)           0\n",
              "product_category(7)           0\n",
              "product_country               0\n",
              "product_id                    0\n",
              "product_title                44\n",
              "partner_id                    0\n",
              "user_id                       0\n",
              "dtype: int64"
            ]
          },
          "metadata": {},
          "execution_count": 15
        }
      ]
    }
  ],
  "metadata": {
    "kernelspec": {
      "display_name": "Python 3 (ipykernel)",
      "language": "python",
      "name": "python3"
    },
    "language_info": {
      "codemirror_mode": {
        "name": "ipython",
        "version": 3
      },
      "file_extension": ".py",
      "mimetype": "text/x-python",
      "name": "python",
      "nbconvert_exporter": "python",
      "pygments_lexer": "ipython3",
      "version": "3.7.3"
    },
    "colab": {
      "name": "Copy of ML_Project.ipynb",
      "provenance": [],
      "collapsed_sections": [],
      "include_colab_link": true
    }
  },
  "nbformat": 4,
  "nbformat_minor": 5
}